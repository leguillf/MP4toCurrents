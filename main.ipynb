{
 "cells": [
  {
   "cell_type": "code",
   "execution_count": 1,
   "metadata": {},
   "outputs": [],
   "source": [
    "import yaml\n",
    "import os \n",
    "\n",
    "from src import preprocess, wda"
   ]
  },
  {
   "cell_type": "markdown",
   "metadata": {},
   "source": [
    "## Open configuration file"
   ]
  },
  {
   "cell_type": "code",
   "execution_count": null,
   "metadata": {},
   "outputs": [],
   "source": [
    "with open(\"config.yaml\", \"r\") as stream:\n",
    "    config = yaml.safe_load(stream)"
   ]
  },
  {
   "cell_type": "markdown",
   "metadata": {},
   "source": [
    "## Preprocessing"
   ]
  },
  {
   "cell_type": "code",
   "execution_count": 2,
   "metadata": {},
   "outputs": [],
   "source": [
    "dir_tmp = config['dir_tmp']\n",
    "input_file = config['path_movie']\n",
    "fps = config['fps']\n",
    "png_files_pattern = os.path.join(dir_tmp,f\"{os.path.split(input_file)[-1][:-4]}_fps-{fps}\")\n",
    "band = config['band']\n",
    "flag_downscale_movie = config['flag_downscale_movie']\n",
    "downscaling = config['downscaling']\n",
    "if downscaling is None or downscaling<1:\n",
    "    downscaling = 1\n",
    "resolution_movie = config['resolution_movie']\n",
    "\n",
    "num_threads = config['num_threads']"
   ]
  },
  {
   "cell_type": "code",
   "execution_count": 3,
   "metadata": {},
   "outputs": [],
   "source": [
    "if not os.path.exists(dir_tmp):\n",
    "    os.makedirs(dir_tmp)"
   ]
  },
  {
   "cell_type": "code",
   "execution_count": 4,
   "metadata": {},
   "outputs": [
    {
     "name": "stderr",
     "output_type": "stream",
     "text": [
      "ffmpeg version 4.2.7-0ubuntu0.1 Copyright (c) 2000-2022 the FFmpeg developers\n",
      "  built with gcc 9 (Ubuntu 9.4.0-1ubuntu1~20.04.1)\n",
      "  configuration: --prefix=/usr --extra-version=0ubuntu0.1 --toolchain=hardened --libdir=/usr/lib/x86_64-linux-gnu --incdir=/usr/include/x86_64-linux-gnu --arch=amd64 --enable-gpl --disable-stripping --enable-avresample --disable-filter=resample --enable-avisynth --enable-gnutls --enable-ladspa --enable-libaom --enable-libass --enable-libbluray --enable-libbs2b --enable-libcaca --enable-libcdio --enable-libcodec2 --enable-libflite --enable-libfontconfig --enable-libfreetype --enable-libfribidi --enable-libgme --enable-libgsm --enable-libjack --enable-libmp3lame --enable-libmysofa --enable-libopenjpeg --enable-libopenmpt --enable-libopus --enable-libpulse --enable-librsvg --enable-librubberband --enable-libshine --enable-libsnappy --enable-libsoxr --enable-libspeex --enable-libssh --enable-libtheora --enable-libtwolame --enable-libvidstab --enable-libvorbis --enable-libvpx --enable-libwavpack --enable-libwebp --enable-libx265 --enable-libxml2 --enable-libxvid --enable-libzmq --enable-libzvbi --enable-lv2 --enable-omx --enable-openal --enable-opencl --enable-opengl --enable-sdl2 --enable-libdc1394 --enable-libdrm --enable-libiec61883 --enable-nvenc --enable-chromaprint --enable-frei0r --enable-libx264 --enable-shared\n",
      "  libavutil      56. 31.100 / 56. 31.100\n",
      "  libavcodec     58. 54.100 / 58. 54.100\n",
      "  libavformat    58. 29.100 / 58. 29.100\n",
      "  libavdevice    58.  8.100 / 58.  8.100\n",
      "  libavfilter     7. 57.100 /  7. 57.100\n",
      "  libavresample   4.  0.  0 /  4.  0.  0\n",
      "  libswscale      5.  5.100 /  5.  5.100\n",
      "  libswresample   3.  5.100 /  3.  5.100\n",
      "  libpostproc    55.  5.100 / 55.  5.100\n",
      "Input #0, mov,mp4,m4a,3gp,3g2,mj2, from 'data/current_observation.mp4':\n",
      "  Metadata:\n",
      "    major_brand     : isom\n",
      "    minor_version   : 512\n",
      "    compatible_brands: isomiso2avc1mp41\n",
      "    creation_time   : 2024-06-08T02:36:00.000000Z\n",
      "    encoder         : Blackmagic Design DaVinci Resolve Studio\n",
      "  Duration: 00:01:01.63, start: 0.000000, bitrate: 10360 kb/s\n",
      "    Stream #0:0(und): Video: h264 (High) (avc1 / 0x31637661), yuv420p(tv, bt709), 3840x2160, 10034 kb/s, SAR 1:1 DAR 16:9, 29.97 fps, 29.97 tbr, 30k tbn, 60k tbc (default)\n",
      "    Metadata:\n",
      "      creation_time   : 2024-06-08T02:36:00.000000Z\n",
      "      handler_name    : VideoHandler\n",
      "      timecode        : 00:00:00:00\n",
      "    Stream #0:1(und): Audio: aac (LC) (mp4a / 0x6134706D), 48000 Hz, stereo, fltp, 319 kb/s (default)\n",
      "    Metadata:\n",
      "      creation_time   : 2024-06-08T02:36:00.000000Z\n",
      "      handler_name    : SoundHandler\n",
      "    Stream #0:2(eng): Data: none (tmcd / 0x64636D74) (default)\n",
      "    Metadata:\n",
      "      creation_time   : 2024-06-08T02:36:00.000000Z\n",
      "      handler_name    : TimeCodeHandler\n",
      "      timecode        : 00:00:00:00\n",
      "Stream mapping:\n",
      "  Stream #0:0 -> #0:0 (h264 (native) -> png (native))\n",
      "Press [q] to stop, [?] for help\n",
      "Output #0, image2, to 'scratch/current_observation_fps-10_%d.png':\n",
      "  Metadata:\n",
      "    major_brand     : isom\n",
      "    minor_version   : 512\n",
      "    compatible_brands: isomiso2avc1mp41\n",
      "    encoder         : Lavf58.29.100\n",
      "    Stream #0:0(und): Video: png, rgb24, 3840x2160 [SAR 1:1 DAR 16:9], q=2-31, 200 kb/s, 10 fps, 10 tbn, 10 tbc (default)\n",
      "    Metadata:\n",
      "      creation_time   : 2024-06-08T02:36:00.000000Z\n",
      "      handler_name    : VideoHandler\n",
      "      timecode        : 00:00:00:00\n",
      "      encoder         : Lavc58.54.100 png\n",
      "frame=  616 fps= 19 q=-0.0 Lsize=N/A time=00:01:01.60 bitrate=N/A speed=1.95x     \n",
      "video:4007478kB audio:0kB subtitle:0kB other streams:0kB global headers:0kB muxing overhead: unknown\n"
     ]
    }
   ],
   "source": [
    "preprocess.MP4toPNG(input_file, png_files_pattern, fps)"
   ]
  },
  {
   "cell_type": "code",
   "execution_count": 5,
   "metadata": {},
   "outputs": [],
   "source": [
    "preprocess.run_preprocess(png_files_pattern, band, flag_downscale_movie, downscaling, resolution_movie, num_threads, fps, dir_tmp)"
   ]
  },
  {
   "cell_type": "markdown",
   "metadata": {},
   "source": [
    "## Current velocities estimation"
   ]
  },
  {
   "cell_type": "code",
   "execution_count": 6,
   "metadata": {},
   "outputs": [],
   "source": [
    "num_pixels = config['num_pixels']\n",
    "ulim = config['ulim']\n",
    "vlim = config['vlim']\n",
    "du = config['du']\n",
    "dv = config['dv']\n",
    "w0 = config['w0']\n",
    "w1 = config['w1']\n",
    "accuracy = config['accuracy']\n",
    "norm = config['norm']\n",
    "dir_out = config['dir_out']\n",
    "file_out = config['file_out']"
   ]
  },
  {
   "cell_type": "code",
   "execution_count": 7,
   "metadata": {},
   "outputs": [],
   "source": [
    "if not os.path.exists(dir_out):\n",
    "    os.makedirs(dir_out)"
   ]
  },
  {
   "cell_type": "code",
   "execution_count": 8,
   "metadata": {},
   "outputs": [],
   "source": [
    "wda.run_current_estimation(f'{dir_tmp}/data.nc', num_pixels, ulim, vlim, du, dv, accuracy, w0, w1, num_threads, norm, f'{dir_out}/{file_out}')"
   ]
  }
 ],
 "metadata": {
  "kernelspec": {
   "display_name": "MP4toCurrents",
   "language": "python",
   "name": "python3"
  },
  "language_info": {
   "codemirror_mode": {
    "name": "ipython",
    "version": 3
   },
   "file_extension": ".py",
   "mimetype": "text/x-python",
   "name": "python",
   "nbconvert_exporter": "python",
   "pygments_lexer": "ipython3",
   "version": "3.9.19"
  }
 },
 "nbformat": 4,
 "nbformat_minor": 2
}
